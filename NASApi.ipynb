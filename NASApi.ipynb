{
  "nbformat": 4,
  "nbformat_minor": 0,
  "metadata": {
    "colab": {
      "provenance": []
    },
    "kernelspec": {
      "name": "python3",
      "display_name": "Python 3"
    },
    "language_info": {
      "name": "python"
    }
  },
  "cells": [
    {
      "cell_type": "code",
      "source": [
        "import requests\n",
        "\n",
        "endpoint = \"https://api.nasa.gov/mars-photos/api/v1/rovers/curiosity/photos\"\n",
        "api_key = \"aUcFQbwRqfaHapfkADZb5B87syiuVd6Ny5TWo2Ae\"\n",
        "query_params = {\"api_key\": api_key, \"earth_date\": \"2022-04-03\"}\n",
        "response = requests.get(endpoint, params=query_params)\n",
        "response.json()\n",
        "photos = response.json()[\"photos\"]\n",
        "print(f\"Найдено {len(photos)} фотографий.\")\n",
        "print(photos[1][\"img_src\"])\n",
        "print(photos[47][\"img_src\"])\n",
        "print(photos[113][\"img_src\"])"
      ],
      "metadata": {
        "id": "ykWaSlEELLQV",
        "colab": {
          "base_uri": "https://localhost:8080/"
        },
        "outputId": "08ed5364-fff0-4ed8-e6b8-21e5165f01da"
      },
      "execution_count": 29,
      "outputs": [
        {
          "output_type": "stream",
          "name": "stdout",
          "text": [
            "Найдено 148 фотографий.\n",
            "https://mars.nasa.gov/msl-raw-images/msss/03433/mhli/3433MH0002270001201943R00_DXXX.jpg\n",
            "https://mars.nasa.gov/msl-raw-images/proj/msl/redops/ods/surface/sol/03433/opgs/edr/ncam/NRB_702256273EDR_S0940000NCAM00597M_.JPG\n",
            "https://mars.nasa.gov/msl-raw-images/proj/msl/redops/ods/surface/sol/03433/opgs/edr/ncam/NRB_702257455EDR_F0940000NCAM00597M_.JPG\n"
          ]
        }
      ]
    },
    {
      "cell_type": "code",
      "source": [],
      "metadata": {
        "id": "Ji254SWgPGF6"
      },
      "execution_count": null,
      "outputs": []
    }
  ]
}